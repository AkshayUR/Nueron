{
 "cells": [
  {
   "cell_type": "markdown",
   "id": "b215f55b",
   "metadata": {},
   "source": [
    "1. In the below elements which of them are values or an expression? eg:- values can be integer or string and expressions will be mathematical operators.\n",
    "* \n",
    "'hello'\n",
    "-87.8\n",
    "- \n",
    "/ \n",
    "+\t\n",
    "6\n"
   ]
  },
  {
   "cell_type": "markdown",
   "id": "c7ec8259",
   "metadata": {},
   "source": [
    "Ans: Values are -87.8, 'hello' and 6 <br>expressions are *,-,/,+ "
   ]
  },
  {
   "cell_type": "code",
   "execution_count": null,
   "id": "db3eafdb",
   "metadata": {},
   "outputs": [],
   "source": []
  },
  {
   "cell_type": "markdown",
   "id": "0d47c93b",
   "metadata": {},
   "source": [
    "2. What is the difference between string and variable?"
   ]
  },
  {
   "cell_type": "markdown",
   "id": "7766cf12",
   "metadata": {},
   "source": [
    "string:<br>1.Data type enclosed between 2 single or double quotes. <br> variable:<br>1.Memory space which holds the valve of any given data type."
   ]
  },
  {
   "cell_type": "code",
   "execution_count": null,
   "id": "b2b04b27",
   "metadata": {},
   "outputs": [],
   "source": []
  },
  {
   "cell_type": "markdown",
   "id": "a6098e6e",
   "metadata": {},
   "source": [
    "Describe three different data types."
   ]
  },
  {
   "cell_type": "markdown",
   "id": "1e6baa0d",
   "metadata": {},
   "source": [
    "1)int:Data type which represents integer class of numbers is int. It includes all positive, zero and negative whole numbers without decimal point.<br>2)float: Data type which represents all rational numbers. These include decimal detailing in numbers.<br> 3)List: Data type which holds different data types in a sequence. "
   ]
  },
  {
   "cell_type": "code",
   "execution_count": null,
   "id": "d16ce582",
   "metadata": {},
   "outputs": [],
   "source": []
  },
  {
   "cell_type": "markdown",
   "id": "26b2c865",
   "metadata": {},
   "source": [
    "3 What is an expression made up of? What do all expressions do?"
   ]
  },
  {
   "cell_type": "markdown",
   "id": "62a0c1aa",
   "metadata": {},
   "source": [
    "Expessions are made up of variables, integers, floats and operaters such as '*' , '+' <br> For example a+2=c"
   ]
  },
  {
   "cell_type": "code",
   "execution_count": null,
   "id": "5a095221",
   "metadata": {},
   "outputs": [],
   "source": []
  },
  {
   "cell_type": "markdown",
   "id": "43e9cd3c",
   "metadata": {},
   "source": [
    "5. This assignment statements, like spam = 10. What is the difference between an expression and a statement?    "
   ]
  },
  {
   "cell_type": "markdown",
   "id": "0dcab917",
   "metadata": {},
   "source": [
    "Expression is made up of values, containers, and mathematical operators (operands) and the statement is just like a command that a python interpreter executes like print."
   ]
  },
  {
   "cell_type": "code",
   "execution_count": null,
   "id": "9368c4d4",
   "metadata": {},
   "outputs": [],
   "source": []
  },
  {
   "cell_type": "markdown",
   "id": "dfdd7478",
   "metadata": {},
   "source": [
    "6. After running the following code, what does the variable bacon contain?\n",
    "<br>bacon = 22\n",
    "<br>bacon + 1\n"
   ]
  },
  {
   "cell_type": "markdown",
   "id": "7f5bfaff",
   "metadata": {},
   "source": [
    "23"
   ]
  },
  {
   "cell_type": "code",
   "execution_count": null,
   "id": "8a206e4a",
   "metadata": {},
   "outputs": [],
   "source": []
  },
  {
   "cell_type": "markdown",
   "id": "fa3abab8",
   "metadata": {},
   "source": [
    "7. What should the values of the following two terms be?\n",
    "<br>'spam' + 'spamspam'\n",
    "<br>'spam' * 3\n"
   ]
  },
  {
   "cell_type": "markdown",
   "id": "22636431",
   "metadata": {},
   "source": [
    "'spamspamspam'"
   ]
  },
  {
   "cell_type": "code",
   "execution_count": null,
   "id": "aaadeb04",
   "metadata": {},
   "outputs": [],
   "source": []
  },
  {
   "cell_type": "markdown",
   "id": "5dd027db",
   "metadata": {},
   "source": [
    "8. Why is eggs a valid variable name while 100 is invalid?"
   ]
  },
  {
   "cell_type": "markdown",
   "id": "6d8ff60f",
   "metadata": {},
   "source": [
    "Because variable cannot begine with number."
   ]
  },
  {
   "cell_type": "code",
   "execution_count": null,
   "id": "d3430fb3",
   "metadata": {},
   "outputs": [],
   "source": []
  },
  {
   "cell_type": "markdown",
   "id": "d6fc83d0",
   "metadata": {},
   "source": [
    "9. What three functions can be used to get the integer, floating-point number, or string version of a value"
   ]
  },
  {
   "cell_type": "markdown",
   "id": "e37e4448",
   "metadata": {},
   "source": [
    "str(), int(), float()"
   ]
  },
  {
   "cell_type": "code",
   "execution_count": null,
   "id": "e79b978c",
   "metadata": {},
   "outputs": [],
   "source": []
  },
  {
   "cell_type": "markdown",
   "id": "2ee7039b",
   "metadata": {},
   "source": [
    "Why does this expression cause an error? How can you fix it?\n",
    "<br> 'I have eaten ' + 99 + ' burritos.'"
   ]
  },
  {
   "cell_type": "markdown",
   "id": "a3c417df",
   "metadata": {},
   "source": [
    "Because here  99 a int data type is bieng concatinated with string data type which is not possible."
   ]
  }
 ],
 "metadata": {
  "kernelspec": {
   "display_name": "Python 3 (ipykernel)",
   "language": "python",
   "name": "python3"
  },
  "language_info": {
   "codemirror_mode": {
    "name": "ipython",
    "version": 3
   },
   "file_extension": ".py",
   "mimetype": "text/x-python",
   "name": "python",
   "nbconvert_exporter": "python",
   "pygments_lexer": "ipython3",
   "version": "3.9.7"
  }
 },
 "nbformat": 4,
 "nbformat_minor": 5
}
